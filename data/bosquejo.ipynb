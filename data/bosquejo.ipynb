{
 "cells": [
  {
   "cell_type": "code",
   "execution_count": 1,
   "id": "6a301460",
   "metadata": {},
   "outputs": [
    {
     "name": "stdout",
     "output_type": "stream",
     "text": [
      "2025-07-22 19:20:32,473 - DEBUG - 🔥 Logging initialized correctamente\n"
     ]
    }
   ],
   "source": [
    "from init_db import PensumLoaderFactory\n",
    "from init_db import PensumLoaderFactory"
   ]
  },
  {
   "cell_type": "code",
   "execution_count": 9,
   "id": "082eb6db",
   "metadata": {},
   "outputs": [
    {
     "name": "stdout",
     "output_type": "stream",
     "text": [
      "2025-07-22 19:55:46,956 - INFO - Loaded data directly from CSV: /home/oa/projects/uni/data/PENSUM-Ingenieria-de-Datos-e-Inteligencia-Organizacional_updated.csv\n"
     ]
    }
   ],
   "source": [
    "loader = PensumLoaderFactory.get_loader('unicaribe', 'PENSUM-Ingenieria-de-Datos-e-Inteligencia-Organizacional_updated.csv')"
   ]
  },
  {
   "cell_type": "code",
   "execution_count": 3,
   "id": "85d0283e",
   "metadata": {},
   "outputs": [
    {
     "data": {
      "text/html": [
       "<div>\n",
       "<style scoped>\n",
       "    .dataframe tbody tr th:only-of-type {\n",
       "        vertical-align: middle;\n",
       "    }\n",
       "\n",
       "    .dataframe tbody tr th {\n",
       "        vertical-align: top;\n",
       "    }\n",
       "\n",
       "    .dataframe thead th {\n",
       "        text-align: right;\n",
       "    }\n",
       "</style>\n",
       "<table border=\"1\" class=\"dataframe\">\n",
       "  <thead>\n",
       "    <tr style=\"text-align: right;\">\n",
       "      <th></th>\n",
       "      <th>clave</th>\n",
       "      <th>asignatura</th>\n",
       "      <th>credito</th>\n",
       "      <th>pre_req</th>\n",
       "      <th>completo</th>\n",
       "      <th>mes_cursado</th>\n",
       "      <th>nota</th>\n",
       "    </tr>\n",
       "  </thead>\n",
       "  <tbody>\n",
       "    <tr>\n",
       "      <th>0</th>\n",
       "      <td>FGC-101</td>\n",
       "      <td>ORIENTACIÓN ACADÉMICA INSTITUCIONAL</td>\n",
       "      <td>2</td>\n",
       "      <td>NaN</td>\n",
       "      <td>True</td>\n",
       "      <td>2023-10-01</td>\n",
       "      <td>92.0</td>\n",
       "    </tr>\n",
       "    <tr>\n",
       "      <th>1</th>\n",
       "      <td>FGC-102</td>\n",
       "      <td>MÉTODO DEL TRABAJO ACADÉMICO</td>\n",
       "      <td>2</td>\n",
       "      <td>NaN</td>\n",
       "      <td>True</td>\n",
       "      <td>2023-11-01</td>\n",
       "      <td>97.0</td>\n",
       "    </tr>\n",
       "    <tr>\n",
       "      <th>2</th>\n",
       "      <td>FGC-103</td>\n",
       "      <td>METODOLOGÍA DE LA INVESTIGACIÓN</td>\n",
       "      <td>3</td>\n",
       "      <td>NaN</td>\n",
       "      <td>False</td>\n",
       "      <td>NaN</td>\n",
       "      <td>NaN</td>\n",
       "    </tr>\n",
       "    <tr>\n",
       "      <th>3</th>\n",
       "      <td>ADE-101</td>\n",
       "      <td>ADMINISTRACION I</td>\n",
       "      <td>3</td>\n",
       "      <td>NaN</td>\n",
       "      <td>True</td>\n",
       "      <td>2023-12-01</td>\n",
       "      <td>94.0</td>\n",
       "    </tr>\n",
       "    <tr>\n",
       "      <th>4</th>\n",
       "      <td>FGC-104</td>\n",
       "      <td>LENGUA ESPAÑOLA I</td>\n",
       "      <td>3</td>\n",
       "      <td>FGC-102</td>\n",
       "      <td>True</td>\n",
       "      <td>2024-02-01</td>\n",
       "      <td>91.0</td>\n",
       "    </tr>\n",
       "  </tbody>\n",
       "</table>\n",
       "</div>"
      ],
      "text/plain": [
       "     clave                           asignatura  credito  pre_req  completo  \\\n",
       "0  FGC-101  ORIENTACIÓN ACADÉMICA INSTITUCIONAL        2      NaN      True   \n",
       "1  FGC-102         MÉTODO DEL TRABAJO ACADÉMICO        2      NaN      True   \n",
       "2  FGC-103      METODOLOGÍA DE LA INVESTIGACIÓN        3      NaN     False   \n",
       "3  ADE-101                     ADMINISTRACION I        3      NaN      True   \n",
       "4  FGC-104                    LENGUA ESPAÑOLA I        3  FGC-102      True   \n",
       "\n",
       "  mes_cursado  nota  \n",
       "0  2023-10-01  92.0  \n",
       "1  2023-11-01  97.0  \n",
       "2         NaN   NaN  \n",
       "3  2023-12-01  94.0  \n",
       "4  2024-02-01  91.0  "
      ]
     },
     "execution_count": 3,
     "metadata": {},
     "output_type": "execute_result"
    }
   ],
   "source": [
    "df = loader.df\n",
    "df.head()"
   ]
  },
  {
   "cell_type": "code",
   "execution_count": 5,
   "id": "2d77b0e4",
   "metadata": {},
   "outputs": [
    {
     "name": "stdout",
     "output_type": "stream",
     "text": [
      "Total Subjects: 53\n",
      "Completed: 7\n",
      "Missing: 46\n",
      "GPA: 93.57\n"
     ]
    }
   ],
   "source": [
    "#summary info\n",
    "summary = loader.completed_summary()\n",
    "t_sub = summary['total']\n",
    "c_sub = summary['completed']\n",
    "m_sub = summary['missing']\n",
    "gpa = df['nota'].mean()\n",
    "\n",
    "print(f\"Total Subjects: {t_sub}\")\n",
    "print(f\"Completed: {c_sub}\")\n",
    "print(f\"Missing: {m_sub}\")\n",
    "print(f\"GPA: {gpa:.2f}\")"
   ]
  },
  {
   "cell_type": "code",
   "execution_count": null,
   "id": "53f692ff",
   "metadata": {},
   "outputs": [],
   "source": []
  }
 ],
 "metadata": {
  "kernelspec": {
   "display_name": "uni_venv",
   "language": "python",
   "name": "python3"
  },
  "language_info": {
   "codemirror_mode": {
    "name": "ipython",
    "version": 3
   },
   "file_extension": ".py",
   "mimetype": "text/x-python",
   "name": "python",
   "nbconvert_exporter": "python",
   "pygments_lexer": "ipython3",
   "version": "3.12.3"
  }
 },
 "nbformat": 4,
 "nbformat_minor": 5
}
