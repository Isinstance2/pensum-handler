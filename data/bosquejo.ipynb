{
 "cells": [
  {
   "cell_type": "code",
   "execution_count": 1,
   "id": "6a301460",
   "metadata": {},
   "outputs": [],
   "source": [
    "from init_db import PensumLoaderFactory\n",
    "from init_db import PensumLoaderFactory"
   ]
  },
  {
   "cell_type": "code",
   "execution_count": 2,
   "id": "082eb6db",
   "metadata": {},
   "outputs": [],
   "source": [
    "loader = PensumLoaderFactory.get_loader('unicaribe', 'PENSUM-Ingenieria-de-Datos-e-Inteligencia-Organizacional')"
   ]
  },
  {
   "cell_type": "code",
   "execution_count": 3,
   "id": "85d0283e",
   "metadata": {},
   "outputs": [
    {
     "data": {
      "text/html": [
       "<div>\n",
       "<style scoped>\n",
       "    .dataframe tbody tr th:only-of-type {\n",
       "        vertical-align: middle;\n",
       "    }\n",
       "\n",
       "    .dataframe tbody tr th {\n",
       "        vertical-align: top;\n",
       "    }\n",
       "\n",
       "    .dataframe thead th {\n",
       "        text-align: right;\n",
       "    }\n",
       "</style>\n",
       "<table border=\"1\" class=\"dataframe\">\n",
       "  <thead>\n",
       "    <tr style=\"text-align: right;\">\n",
       "      <th></th>\n",
       "      <th>clave</th>\n",
       "      <th>asignatura</th>\n",
       "      <th>credito</th>\n",
       "      <th>pre_req</th>\n",
       "      <th>completo</th>\n",
       "      <th>mes_cursado</th>\n",
       "      <th>nota</th>\n",
       "    </tr>\n",
       "  </thead>\n",
       "  <tbody>\n",
       "    <tr>\n",
       "      <th>0</th>\n",
       "      <td>FGC-101</td>\n",
       "      <td>ORIENTACIÓN ACADÉMICA INSTITUCIONAL</td>\n",
       "      <td>2</td>\n",
       "      <td></td>\n",
       "      <td>False</td>\n",
       "      <td>NaT</td>\n",
       "      <td>NaN</td>\n",
       "    </tr>\n",
       "    <tr>\n",
       "      <th>1</th>\n",
       "      <td>FGC-102</td>\n",
       "      <td>MÉTODO DEL TRABAJO ACADÉMICO</td>\n",
       "      <td>2</td>\n",
       "      <td></td>\n",
       "      <td>False</td>\n",
       "      <td>NaT</td>\n",
       "      <td>NaN</td>\n",
       "    </tr>\n",
       "    <tr>\n",
       "      <th>2</th>\n",
       "      <td>FGC-103</td>\n",
       "      <td>METODOLOGÍA DE LA INVESTIGACIÓN</td>\n",
       "      <td>3</td>\n",
       "      <td></td>\n",
       "      <td>False</td>\n",
       "      <td>NaT</td>\n",
       "      <td>NaN</td>\n",
       "    </tr>\n",
       "    <tr>\n",
       "      <th>3</th>\n",
       "      <td>ADE-101</td>\n",
       "      <td>ADMINISTRACION I</td>\n",
       "      <td>3</td>\n",
       "      <td></td>\n",
       "      <td>False</td>\n",
       "      <td>NaT</td>\n",
       "      <td>NaN</td>\n",
       "    </tr>\n",
       "    <tr>\n",
       "      <th>4</th>\n",
       "      <td>FGC-104</td>\n",
       "      <td>LENGUA ESPAÑOLA I</td>\n",
       "      <td>3</td>\n",
       "      <td>FGC-102</td>\n",
       "      <td>False</td>\n",
       "      <td>NaT</td>\n",
       "      <td>NaN</td>\n",
       "    </tr>\n",
       "  </tbody>\n",
       "</table>\n",
       "</div>"
      ],
      "text/plain": [
       "     clave                           asignatura  credito  pre_req  completo  \\\n",
       "0  FGC-101  ORIENTACIÓN ACADÉMICA INSTITUCIONAL        2              False   \n",
       "1  FGC-102         MÉTODO DEL TRABAJO ACADÉMICO        2              False   \n",
       "2  FGC-103      METODOLOGÍA DE LA INVESTIGACIÓN        3              False   \n",
       "3  ADE-101                     ADMINISTRACION I        3              False   \n",
       "4  FGC-104                    LENGUA ESPAÑOLA I        3  FGC-102     False   \n",
       "\n",
       "  mes_cursado  nota  \n",
       "0         NaT   NaN  \n",
       "1         NaT   NaN  \n",
       "2         NaT   NaN  \n",
       "3         NaT   NaN  \n",
       "4         NaT   NaN  "
      ]
     },
     "execution_count": 3,
     "metadata": {},
     "output_type": "execute_result"
    }
   ],
   "source": [
    "df = loader.df\n",
    "df.head()"
   ]
  },
  {
   "cell_type": "code",
   "execution_count": 4,
   "id": "2f83026c",
   "metadata": {},
   "outputs": [
    {
     "name": "stderr",
     "output_type": "stream",
     "text": [
      "2025-07-18 21:32:40 - INFO - Assigned grade 94 to subject: ADMINISTRACION I\n"
     ]
    }
   ],
   "source": [
    "loader.edit_record('ADMINISTRACION I', '2023-12', 94)"
   ]
  },
  {
   "cell_type": "code",
   "execution_count": 7,
   "id": "25798518",
   "metadata": {},
   "outputs": [
    {
     "name": "stderr",
     "output_type": "stream",
     "text": [
      "2025-07-18 21:46:15 - WARNING - Multiple matches found for 'FISICA I': ['FISICA I', 'FISICA II']\n",
      "2025-07-18 21:46:15 - INFO - Assigned grade 91 to subject: FISICA I\n",
      "2025-07-18 21:46:15 - INFO - Assigned grade 92 to subject: ORIENTACIÓN ACADÉMICA INSTITUCIONAL\n",
      "2025-07-18 21:46:15 - INFO - Assigned grade 97 to subject: MÉTODO DEL TRABAJO ACADÉMICO\n",
      "2025-07-18 21:46:15 - INFO - Assigned grade 91 to subject: LENGUA ESPAÑOLA I\n",
      "2025-07-18 21:46:15 - INFO - Assigned grade 98 to subject: MATEMÁTICA BÁSICA I\n",
      "2025-07-18 21:46:15 - INFO - Assigned grade 98 to subject: TECNOLOGÍA DE LA INFORMACIÓN Y COMUNICACIÓN I\n",
      "2025-07-18 21:46:15 - INFO - Assigned grade 91 to subject: HISTORIA SOCIAL DOMINICANA\n",
      "2025-07-18 21:46:15 - INFO - Assigned grade 92 to subject: INGLÉS I\n",
      "2025-07-18 21:46:15 - INFO - Assigned grade 93 to subject: FILOSOFÍA\n",
      "2025-07-18 21:46:15 - INFO - Assigned grade 93 to subject: DESARROLLO SOSTENIBLE Y GESTIÓN DE RIESGOS\n",
      "2025-07-18 21:46:15 - INFO - Assigned grade 97 to subject: CIENCIA DE LOS DATOS\n",
      "2025-07-18 21:46:15 - INFO - Assigned grade 100 to subject: INTRODUCCIÓN A LA PROGRAMACIÓN\n",
      "2025-07-18 21:46:15 - INFO - Assigned grade 99 to subject: SISTEMA OPERATIVO I\n",
      "2025-07-18 21:46:15 - INFO - Assigned grade 97 to subject: REDES INFORMÁTICAS\n",
      "2025-07-18 21:46:15 - INFO - Assigned grade 94 to subject: INTRODUCCIÓN A LA INGENIERÍA\n",
      "2025-07-18 21:46:15 - INFO - Assigned grade 94 to subject: TALLER DE MECÁNICA DE HARDWARE\n",
      "2025-07-18 21:46:15 - INFO - Assigned grade 97 to subject: TALLER DE BASES DE DATOS I\n",
      "2025-07-18 21:46:15 - WARNING - Multiple matches found for 'ESTADISTICA I': ['ESTADISTICA I', 'ESTADISTICA II']\n",
      "2025-07-18 21:46:15 - INFO - Assigned grade 96 to subject: ESTADISTICA I\n",
      "2025-07-18 21:46:15 - INFO - Assigned grade 93 to subject: QUÍMICA I\n",
      "2025-07-18 21:46:15 - INFO - Assigned grade 93 to subject: ETICA EN TECNOLOGÍA\n"
     ]
    }
   ],
   "source": [
    "loader.edit_record('FISICA I', '2024-08', 91)\n",
    "loader.edit_record('ORIENTACION ACADEMICA INSTITUCIONAL', '2023-10', 92)\n",
    "loader.edit_record('METODO DEL TRABAJO ACADEMICO', '2023-11', 97)\n",
    "loader.edit_record('LENGUA ESPAÑOLA I', '2024-02', 91)\n",
    "loader.edit_record('MATEMATICA BASICA I', '2024-06', 98)\n",
    "loader.edit_record('TECNOLOGIA DE LA INFORMACION Y COMUNICACION I', '2024-03',98 )\n",
    "loader.edit_record('HISTORIA SOCIAL DOMINICANA', '2024-04',91)\n",
    "loader.edit_record('INGLES I', '2024-01', 92)\n",
    "loader.edit_record('FILOSOFIA', '2024-07',93)\n",
    "loader.edit_record('DESARROLLO SOSTENIBLE Y GESTION DE RIESGOS', '2024-11',93)\n",
    "loader.edit_record('CIENCIA DE LOS DATOS', '2025-04',97)\n",
    "loader.edit_record('INTRODUCCION A LA PROGRAMACION', '2025-03',100)\n",
    "loader.edit_record('SISTEMA OPERATIVO I', '2024-12', 99)\n",
    "loader.edit_record('REDES INFORMATICAS', '2025-06', 97)\n",
    "loader.edit_record('INTRODUCCION A LA INGENIERIA', '2024-05', 94)\n",
    "loader.edit_record('TALLER DE MECANICA DE HARDWARE', '2025-01', 94)\n",
    "loader.edit_record('TALLER DE BASES DE DATOS I', '2025-05', 97)\n",
    "loader.edit_record('ESTADISTICA I', '2024-09', 96)\n",
    "loader.edit_record('QUIMICA I', '2024-10', 93)\n",
    "loader.edit_record('ETICA EN TECNOLOGIA', '2025-02', 93)\n"
   ]
  },
  {
   "cell_type": "code",
   "execution_count": 13,
   "id": "7627eff5",
   "metadata": {},
   "outputs": [
    {
     "data": {
      "text/html": [
       "<div>\n",
       "<style scoped>\n",
       "    .dataframe tbody tr th:only-of-type {\n",
       "        vertical-align: middle;\n",
       "    }\n",
       "\n",
       "    .dataframe tbody tr th {\n",
       "        vertical-align: top;\n",
       "    }\n",
       "\n",
       "    .dataframe thead th {\n",
       "        text-align: right;\n",
       "    }\n",
       "</style>\n",
       "<table border=\"1\" class=\"dataframe\">\n",
       "  <thead>\n",
       "    <tr style=\"text-align: right;\">\n",
       "      <th></th>\n",
       "      <th>clave</th>\n",
       "      <th>asignatura</th>\n",
       "      <th>credito</th>\n",
       "      <th>pre_req</th>\n",
       "      <th>completo</th>\n",
       "      <th>mes_cursado</th>\n",
       "      <th>nota</th>\n",
       "      <th>asignatura_limpia</th>\n",
       "    </tr>\n",
       "  </thead>\n",
       "  <tbody>\n",
       "  </tbody>\n",
       "</table>\n",
       "</div>"
      ],
      "text/plain": [
       "Empty DataFrame\n",
       "Columns: [clave, asignatura, credito, pre_req, completo, mes_cursado, nota, asignatura_limpia]\n",
       "Index: []"
      ]
     },
     "execution_count": 13,
     "metadata": {},
     "output_type": "execute_result"
    }
   ],
   "source": [
    "df[df['completo'] == True]\n"
   ]
  },
  {
   "cell_type": "code",
   "execution_count": 15,
   "id": "03dbd5cd",
   "metadata": {},
   "outputs": [
    {
     "data": {
      "text/plain": [
       "clave                        object\n",
       "asignatura                   object\n",
       "credito                       int64\n",
       "pre_req                      object\n",
       "completo                       bool\n",
       "mes_cursado          datetime64[ns]\n",
       "nota                        float64\n",
       "asignatura_limpia            object\n",
       "dtype: object"
      ]
     },
     "execution_count": 15,
     "metadata": {},
     "output_type": "execute_result"
    }
   ],
   "source": [
    "df.dtypes"
   ]
  },
  {
   "cell_type": "code",
   "execution_count": 16,
   "id": "51852595",
   "metadata": {},
   "outputs": [
    {
     "name": "stdout",
     "output_type": "stream",
     "text": [
      "completo\n",
      "False    53\n",
      "Name: count, dtype: int64\n"
     ]
    }
   ],
   "source": [
    "print(df['completo'].value_counts())"
   ]
  },
  {
   "cell_type": "code",
   "execution_count": null,
   "id": "49c1f752",
   "metadata": {},
   "outputs": [],
   "source": []
  }
 ],
 "metadata": {
  "kernelspec": {
   "display_name": "uni_venv",
   "language": "python",
   "name": "python3"
  },
  "language_info": {
   "codemirror_mode": {
    "name": "ipython",
    "version": 3
   },
   "file_extension": ".py",
   "mimetype": "text/x-python",
   "name": "python",
   "nbconvert_exporter": "python",
   "pygments_lexer": "ipython3",
   "version": "3.12.3"
  }
 },
 "nbformat": 4,
 "nbformat_minor": 5
}
